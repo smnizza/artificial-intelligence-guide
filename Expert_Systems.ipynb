{
  "nbformat": 4,
  "nbformat_minor": 0,
  "metadata": {
    "colab": {
      "provenance": [],
      "authorship_tag": "ABX9TyOwfvPPayLHS0zzjm8+sr9y",
      "include_colab_link": true
    },
    "kernelspec": {
      "name": "python3",
      "display_name": "Python 3"
    },
    "language_info": {
      "name": "python"
    }
  },
  "cells": [
    {
      "cell_type": "markdown",
      "metadata": {
        "id": "view-in-github",
        "colab_type": "text"
      },
      "source": [
        "<a href=\"https://colab.research.google.com/github/smnizza/artificial_intelligence/blob/main/Expert_Systems.ipynb\" target=\"_parent\"><img src=\"https://colab.research.google.com/assets/colab-badge.svg\" alt=\"Open In Colab\"/></a>"
      ]
    },
    {
      "cell_type": "markdown",
      "source": [
        "# Expert Systems\n",
        "\n",
        "Expert Systems adalah sistem berbasis pengetahuan yang meniru keputusan pakar di bidang tertentu. Sistem ini digunakan dalam berbagai aplikasi, seperti:\n",
        "- Diagnosis medis (misalnya sistem pakar untuk mendeteksi penyakit)\n",
        "- Sistem rekomendasi berbasis aturan\n",
        "- Analisis troubleshooting (misalnya untuk memperbaiki kerusakan mesin atau perangkat elektronik)\n",
        "\n",
        "Expert Systems menggunakan aturan **IF-THEN** untuk mengambil keputusan, berdasarkan basis pengetahuan yang dikumpulkan dari para ahli."
      ],
      "metadata": {
        "id": "SDWgVQsbkDpv"
      }
    },
    {
      "cell_type": "markdown",
      "source": [
        "## Komponen Utama Expert Systems\n",
        "1. **Knowledge Base (Basis Pengetahuan)** – Berisi aturan dan fakta dari pakar.\n",
        "2. **Inference Engine (Mesin Inferensi)** – Menggunakan aturan untuk menarik kesimpulan dari data yang diberikan.\n",
        "3. **User Interface (Antarmuka Pengguna)** – Menghubungkan pengguna dengan sistem, memberikan input dan menerima hasil analisis.\n",
        "4. **Explanation Module (Modul Penjelasan)** – Menjelaskan alasan keputusan yang diambil sistem.\n"
      ],
      "metadata": {
        "id": "ZPqfa6ZzkIDP"
      }
    },
    {
      "cell_type": "markdown",
      "source": [
        "## Cara Kerja Expert Systems\n",
        "Expert Systems bekerja dengan cara berikut:\n",
        "1. Pengguna memberikan data/input ke sistem.\n",
        "2. Sistem mencocokkan data dengan aturan dalam **Knowledge Base**.\n",
        "3. **Inference Engine** memproses aturan untuk menghasilkan keputusan.\n",
        "4. **Explanation Module** menjelaskan alasan di balik keputusan tersebut.\n",
        "\n",
        "💡 **Contoh:**  \n",
        "Seorang dokter menggunakan Expert System untuk mendiagnosis pasien berdasarkan gejala yang mereka alami.\n"
      ],
      "metadata": {
        "id": "IZt4J9FOkLED"
      }
    },
    {
      "cell_type": "markdown",
      "source": [
        "## Contoh Implementasi Expert System (Diagnosis Penyakit)\n",
        "Berikut adalah contoh sederhana Expert System untuk mendiagnosis penyakit berdasarkan gejala yang diberikan.\n"
      ],
      "metadata": {
        "id": "U4_YZVjFkNwP"
      }
    },
    {
      "cell_type": "code",
      "execution_count": 1,
      "metadata": {
        "colab": {
          "base_uri": "https://localhost:8080/"
        },
        "id": "Qs9XLLfDj_xn",
        "outputId": "7359bdf9-e210-4b83-af5d-d520cc0d5aee"
      },
      "outputs": [
        {
          "output_type": "stream",
          "name": "stdout",
          "text": [
            "Diagnosis: Kemungkinan flu.\n"
          ]
        }
      ],
      "source": [
        "class ExpertSystem:\n",
        "    def __init__(self):\n",
        "        self.rules = {\n",
        "            (\"demam\", \"batuk\", \"pilek\"): \"Kemungkinan flu.\",\n",
        "            (\"demam\", \"sakit kepala\", \"mual\"): \"Kemungkinan demam berdarah.\",\n",
        "            (\"nyeri dada\", \"sesak napas\", \"kelelahan\"): \"Kemungkinan penyakit jantung.\"\n",
        "        }\n",
        "\n",
        "    def diagnose(self, symptoms):\n",
        "        for condition, diagnosis in self.rules.items():\n",
        "            if all(symptom in symptoms for symptom in condition):\n",
        "                return f\"Diagnosis: {diagnosis}\"\n",
        "        return \"Tidak ada diagnosis yang cocok. Silakan konsultasi ke dokter.\"\n",
        "\n",
        "# Contoh penggunaan\n",
        "system = ExpertSystem()\n",
        "gejala = [\"demam\", \"batuk\", \"pilek\"]\n",
        "print(system.diagnose(gejala))"
      ]
    },
    {
      "cell_type": "markdown",
      "source": [
        "## Kesimpulan\n",
        "Expert Systems adalah salah satu metode AI yang memungkinkan mesin untuk mengambil keputusan berdasarkan basis pengetahuan yang telah dikumpulkan dari pakar.\n",
        "\n",
        "Kelebihan Expert Systems:\n",
        "✅ Dapat menyimpan dan menggunakan pengetahuan pakar.  \n",
        "✅ Dapat bekerja tanpa perlu pakar hadir secara langsung.  \n",
        "✅ Dapat digunakan untuk diagnosis dan pengambilan keputusan.\n",
        "\n",
        "Kekurangan Expert Systems:\n",
        "❌ Terbatas pada aturan yang sudah didefinisikan.  \n",
        "❌ Tidak bisa belajar sendiri (tidak seperti Machine Learning).  \n",
        "❌ Membutuhkan pembaruan manual saat ada perubahan informasi.\n",
        "\n",
        "### **Pengembangan Lebih Lanjut**\n",
        "- **Menggunakan Machine Learning** untuk meningkatkan kemampuan sistem.\n",
        "- **Menambahkan Fuzzy Logic** agar lebih fleksibel dalam menangani ketidakpastian data.\n",
        "- **Menerapkan sistem berbasis web** untuk aksesibilitas yang lebih luas."
      ],
      "metadata": {
        "id": "s4uFNGVSkR54"
      }
    }
  ]
}