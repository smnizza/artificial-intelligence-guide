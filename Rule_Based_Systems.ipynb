{
  "nbformat": 4,
  "nbformat_minor": 0,
  "metadata": {
    "colab": {
      "provenance": [],
      "authorship_tag": "ABX9TyNPnfWdj8Oow60P2Qia8Fhi",
      "include_colab_link": true
    },
    "kernelspec": {
      "name": "python3",
      "display_name": "Python 3"
    },
    "language_info": {
      "name": "python"
    }
  },
  "cells": [
    {
      "cell_type": "markdown",
      "metadata": {
        "id": "view-in-github",
        "colab_type": "text"
      },
      "source": [
        "<a href=\"https://colab.research.google.com/github/smnizza/artificial_intelligence/blob/main/Rule_Based_Systems.ipynb\" target=\"_parent\"><img src=\"https://colab.research.google.com/assets/colab-badge.svg\" alt=\"Open In Colab\"/></a>"
      ]
    },
    {
      "cell_type": "markdown",
      "source": [
        "# Rule-Based Systems\n",
        "\n",
        "Rule-Based Systems (RBS) adalah metode kecerdasan buatan yang menggunakan aturan IF-THEN untuk mengambil keputusan.\n",
        "Sistem ini digunakan dalam berbagai aplikasi, seperti:\n",
        "- Sistem pakar (Expert System)\n",
        "- Chatbot berbasis aturan\n",
        "- Sistem rekomendasi berbasis logika\n",
        "\n",
        "## Komponen Utama Rule-Based System\n",
        "1. **Knowledge Base (Basis Pengetahuan)** – Berisi aturan dalam bentuk IF-THEN.\n",
        "2. **Inference Engine (Mesin Inferensi)** – Mengevaluasi aturan berdasarkan data yang diberikan.\n",
        "3. **Working Memory (Memori Kerja)** – Menyimpan fakta sementara yang akan dievaluasi."
      ],
      "metadata": {
        "id": "b2kj7UTki60Q"
      }
    },
    {
      "cell_type": "markdown",
      "source": [
        "## Cara Kerja Rule-Based System\n",
        "Rule-Based System bekerja dengan menerapkan aturan **IF-THEN** untuk mengambil keputusan. Contohnya:\n",
        "\n",
        "- **IF suhu > 30 THEN nyalakan kipas**\n",
        "- **IF gejala = batuk dan demam THEN kemungkinan flu**\n",
        "\n",
        "Sistem ini cocok untuk masalah yang memiliki aturan yang jelas dan dapat dikodekan dalam bentuk keputusan logis."
      ],
      "metadata": {
        "id": "DHSovyZOi98O"
      }
    },
    {
      "cell_type": "code",
      "source": [
        "def rule_based_example(temp):\n",
        "    if temp > 30:\n",
        "        return \"Cuaca panas, nyalakan kipas angin.\"\n",
        "    elif temp > 20:\n",
        "        return \"Cuaca hangat, cukup nyaman.\"\n",
        "    else:\n",
        "        return \"Cuaca dingin, nyalakan pemanas.\"\n",
        "\n",
        "# Contoh penggunaan\n",
        "temperature = 28\n",
        "print(rule_based_example(temperature))\n"
      ],
      "metadata": {
        "id": "AoTO4kGBjBqV"
      },
      "execution_count": null,
      "outputs": []
    },
    {
      "cell_type": "markdown",
      "source": [
        "## Implementasi Forward Chaining\n",
        "**Forward Chaining** adalah metode yang bekerja dengan memeriksa fakta yang ada dan mencocokkannya dengan aturan yang tersedia untuk mencapai kesimpulan.\n",
        "\n",
        "💡 **Contoh:**  \n",
        "Jika terdapat fakta *demam dan batuk*, sistem akan mencari aturan yang sesuai untuk menentukan penyakit yang mungkin diderita."
      ],
      "metadata": {
        "id": "ifu1LVwvjCPi"
      }
    },
    {
      "cell_type": "code",
      "source": [
        "def forward_chaining(facts):\n",
        "    rules = {\n",
        "        \"demam\": \"Kemungkinan flu.\",\n",
        "        \"batuk\": \"Kemungkinan infeksi pernapasan.\",\n",
        "        \"pilek\": \"Kemungkinan flu ringan.\"\n",
        "    }\n",
        "\n",
        "    hasil = [rules[f] for f in facts if f in rules]\n",
        "    return hasil if hasil else [\"Tidak ada kesimpulan yang pasti.\"]\n",
        "\n",
        "# Contoh penggunaan\n",
        "gejala = [\"demam\", \"batuk\"]\n",
        "print(forward_chaining(gejala))"
      ],
      "metadata": {
        "id": "ycSjkGpyjEBk"
      },
      "execution_count": null,
      "outputs": []
    },
    {
      "cell_type": "markdown",
      "source": [
        "## Implementasi Backward Chaining\n",
        "**Backward Chaining** adalah metode yang memulai dari kesimpulan yang ingin dicapai, lalu mencari fakta yang mendukungnya.\n",
        "\n",
        "💡 **Contoh:**  \n",
        "Jika kita ingin menyimpulkan bahwa seseorang terkena flu, sistem akan mencari aturan yang menyebutkan bahwa flu terjadi jika seseorang mengalami *demam dan batuk*."
      ],
      "metadata": {
        "id": "O8RP6uuWjFe-"
      }
    },
    {
      "cell_type": "code",
      "source": [
        "def backward_chaining(target, rules):\n",
        "    for condition, conclusion in rules.items():\n",
        "        if target == conclusion:\n",
        "            return f\"Kesimpulan '{target}' didukung oleh kondisi: {condition}\"\n",
        "    return f\"Tidak ditemukan aturan yang mendukung kesimpulan '{target}'\"\n",
        "\n",
        "# Contoh aturan\n",
        "rules = {\n",
        "    \"demam dan batuk\": \"Kemungkinan flu.\",\n",
        "    \"tenggorokan sakit dan pilek\": \"Kemungkinan infeksi tenggorokan.\"\n",
        "}\n",
        "\n",
        "# Contoh penggunaan\n",
        "print(backward_chaining(\"Kemungkinan flu.\", rules))\n"
      ],
      "metadata": {
        "id": "buYNdeo_jGue"
      },
      "execution_count": null,
      "outputs": []
    },
    {
      "cell_type": "markdown",
      "source": [
        "## Kesimpulan\n",
        "Rule-Based Systems adalah pendekatan kecerdasan buatan berbasis aturan IF-THEN. Metode ini sering digunakan dalam:\n",
        "- Sistem pakar medis\n",
        "- Chatbot berbasis logika\n",
        "- Sistem rekomendasi\n",
        "\n",
        "### **Pengembangan Lebih Lanjut**\n",
        "1. **Menggunakan metode kombinasi** – Menggabungkan Rule-Based System dengan Machine Learning.\n",
        "2. **Menerapkan Fuzzy Logic** – Agar aturan lebih fleksibel dan realistis.\n",
        "3. **Membuat sistem yang lebih kompleks** – Seperti sistem pakar berbasis AI.\n",
        "\n",
        "Rule-Based System cocok untuk kasus dengan aturan yang jelas dan tetap, tetapi kurang fleksibel untuk masalah yang memerlukan pembelajaran dari data."
      ],
      "metadata": {
        "id": "UMj3gOsNjHso"
      }
    }
  ]
}