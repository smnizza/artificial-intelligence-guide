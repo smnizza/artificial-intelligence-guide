{
  "nbformat": 4,
  "nbformat_minor": 0,
  "metadata": {
    "colab": {
      "provenance": [],
      "authorship_tag": "ABX9TyNPkdwGVAiW3Iqdgkd16Zj6",
      "include_colab_link": true
    },
    "kernelspec": {
      "name": "python3",
      "display_name": "Python 3"
    },
    "language_info": {
      "name": "python"
    }
  },
  "cells": [
    {
      "cell_type": "markdown",
      "metadata": {
        "id": "view-in-github",
        "colab_type": "text"
      },
      "source": [
        "<a href=\"https://colab.research.google.com/github/smnizza/artificial_intelligence/blob/main/Genetic_Algorithms.ipynb\" target=\"_parent\"><img src=\"https://colab.research.google.com/assets/colab-badge.svg\" alt=\"Open In Colab\"/></a>"
      ]
    },
    {
      "cell_type": "markdown",
      "source": [
        "# Genetic Algorithms (GA)\n",
        "Genetic Algorithms (GA) adalah teknik optimasi berbasis seleksi alam yang meniru proses evolusi biologis. Algoritma ini digunakan untuk mencari solusi optimal dalam berbagai masalah kompleks.\n",
        "\n",
        "## Konsep Utama dalam Genetic Algorithms\n",
        "1. **Populasi** – Sekumpulan kandidat solusi.\n",
        "2. **Seleksi** – Memilih individu terbaik berdasarkan nilai fitness.\n",
        "3. **Crossover (Rekombinasi)** – Menggabungkan dua individu untuk menghasilkan keturunan baru.\n",
        "4. **Mutasi** – Mengubah individu secara acak untuk menjaga keberagaman populasi.\n",
        "5. **Evaluasi (Fitness Function)** – Mengukur kualitas individu dalam menyelesaikan masalah.\n",
        "\n",
        "💡 **Aplikasi Genetic Algorithms**  \n",
        "- Optimasi fungsi matematika  \n",
        "- Perencanaan rute (Traveling Salesman Problem)  \n",
        "- Neural network training  \n",
        "- Penjadwalan dan alokasi sumber daya  \n"
      ],
      "metadata": {
        "id": "tdB5mEI4kyIE"
      }
    },
    {
      "cell_type": "markdown",
      "source": [
        "## Cara Kerja Genetic Algorithms\n",
        "Genetic Algorithms bekerja dengan siklus berikut:\n",
        "1. **Inisialisasi Populasi** – Membuat sekumpulan individu secara acak.\n",
        "2. **Evaluasi (Fitness Function)** – Menghitung nilai fitness setiap individu.\n",
        "3. **Seleksi** – Memilih individu terbaik untuk berkembang biak.\n",
        "4. **Crossover** – Menggabungkan individu untuk menghasilkan keturunan baru.\n",
        "5. **Mutasi** – Mengubah gen individu secara acak untuk eksplorasi solusi baru.\n",
        "6. **Iterasi (Generasi Baru)** – Mengulang proses sampai solusi optimal ditemukan."
      ],
      "metadata": {
        "id": "GXKivnvWk5S0"
      }
    },
    {
      "cell_type": "markdown",
      "source": [
        "## Implementasi Genetic Algorithms\n",
        "Berikut adalah contoh penggunaan Genetic Algorithms untuk menemukan nilai maksimum dari fungsi **f(x) = x²** dalam rentang tertentu."
      ],
      "metadata": {
        "id": "Xhw4be-Uk6mz"
      }
    },
    {
      "cell_type": "code",
      "source": [
        "import random\n",
        "\n",
        "# Fungsi fitness (optimasi x^2)\n",
        "def fitness(x):\n",
        "    return x**2\n",
        "\n",
        "# Inisialisasi populasi\n",
        "def generate_population(size, min_value, max_value):\n",
        "    return [random.uniform(min_value, max_value) for _ in range(size)]\n",
        "\n",
        "# Seleksi individu terbaik\n",
        "def selection(population):\n",
        "    return sorted(population, key=fitness, reverse=True)[:2]\n",
        "\n",
        "# Crossover (Rekombinasi)\n",
        "def crossover(parent1, parent2):\n",
        "    return (parent1 + parent2) / 2\n",
        "\n",
        "# Mutasi (sedikit mengubah nilai untuk eksplorasi)\n",
        "def mutation(value, mutation_rate=0.1):\n",
        "    if random.random() < mutation_rate:\n",
        "        return value + random.uniform(-1, 1)\n",
        "    return value\n",
        "\n",
        "# Algoritma Genetik\n",
        "def genetic_algorithm(generations=50, population_size=10, min_value=-10, max_value=10):\n",
        "    population = generate_population(population_size, min_value, max_value)\n",
        "\n",
        "    for generation in range(generations):\n",
        "        parents = selection(population)\n",
        "        child = crossover(parents[0], parents[1])\n",
        "        child = mutation(child)\n",
        "\n",
        "        # Ganti individu terburuk dengan anak baru\n",
        "        population[-1] = child\n",
        "\n",
        "        # Cetak hasil setiap beberapa generasi\n",
        "        if generation % 10 == 0:\n",
        "            print(f\"Generasi {generation}: Max Fitness = {fitness(max(population, key=fitness))}\")\n",
        "\n",
        "    return max(population, key=fitness)\n",
        "\n",
        "# Jalankan algoritma\n",
        "best_solution = genetic_algorithm()\n",
        "print(f\"Solusi terbaik ditemukan: x = {best_solution}, f(x) = {fitness(best_solution)}\")"
      ],
      "metadata": {
        "colab": {
          "base_uri": "https://localhost:8080/"
        },
        "id": "zGjmeS78k7Z_",
        "outputId": "725bc9fb-db88-4869-aeef-564644fd8418"
      },
      "execution_count": 1,
      "outputs": [
        {
          "output_type": "stream",
          "name": "stdout",
          "text": [
            "Generasi 0: Max Fitness = 95.25141581918793\n",
            "Generasi 10: Max Fitness = 95.25141581918793\n",
            "Generasi 20: Max Fitness = 95.25141581918793\n",
            "Generasi 30: Max Fitness = 95.25141581918793\n",
            "Generasi 40: Max Fitness = 95.25141581918793\n",
            "Solusi terbaik ditemukan: x = -9.776850715265017, f(x) = 95.58680990857806\n"
          ]
        }
      ]
    },
    {
      "cell_type": "markdown",
      "source": [
        "## Kesimpulan\n",
        "Genetic Algorithms adalah metode optimasi berbasis evolusi yang meniru seleksi alam. Metode ini sangat berguna dalam menyelesaikan masalah kompleks yang sulit diselesaikan dengan cara konvensional.\n",
        "\n",
        "✅ **Kelebihan Genetic Algorithms**  \n",
        "- Dapat menemukan solusi optimal dalam masalah kompleks.  \n",
        "- Tidak memerlukan informasi turunan (gradient-free).  \n",
        "- Menangani ruang solusi yang besar dan non-linear.  \n",
        "\n",
        "❌ **Kekurangan Genetic Algorithms**  \n",
        "- Proses iteratif bisa memakan waktu.  \n",
        "- Tidak selalu menjamin solusi global optimal.  \n",
        "- Memerlukan tuning parameter (populasi, mutasi, crossover).\n",
        "\n",
        "### **Pengembangan Lebih Lanjut**\n",
        "- **Meningkatkan seleksi dan mutasi** untuk mempercepat konvergensi.  \n",
        "- **Menerapkan GA dalam Machine Learning** untuk optimasi parameter model.  \n",
        "- **Menggunakan GA untuk pemrosesan gambar** dalam rekonstruksi atau segmentasi.  "
      ],
      "metadata": {
        "id": "py2PUTs0k-yd"
      }
    }
  ]
}