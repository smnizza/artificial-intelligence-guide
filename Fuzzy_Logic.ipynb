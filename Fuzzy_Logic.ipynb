{
  "nbformat": 4,
  "nbformat_minor": 0,
  "metadata": {
    "colab": {
      "provenance": [],
      "authorship_tag": "ABX9TyNpOknc5ysk7KfBvFHVmPJx",
      "include_colab_link": true
    },
    "kernelspec": {
      "name": "python3",
      "display_name": "Python 3"
    },
    "language_info": {
      "name": "python"
    }
  },
  "cells": [
    {
      "cell_type": "markdown",
      "metadata": {
        "id": "view-in-github",
        "colab_type": "text"
      },
      "source": [
        "<a href=\"https://colab.research.google.com/github/smnizza/artificial_intelligence/blob/main/Fuzzy_Logic.ipynb\" target=\"_parent\"><img src=\"https://colab.research.google.com/assets/colab-badge.svg\" alt=\"Open In Colab\"/></a>"
      ]
    },
    {
      "cell_type": "markdown",
      "source": [
        "# Fuzzy Logic\n",
        "\n",
        "Fuzzy Logic adalah metode dalam kecerdasan buatan yang digunakan untuk menangani ketidakpastian dan data yang tidak tegas. Berbeda dengan logika klasik yang hanya mengenal **True (1)** atau **False (0)**, Fuzzy Logic memungkinkan nilai di antara **0 dan 1**, yang disebut **derajat keanggotaan**.\n",
        "\n",
        "## Aplikasi Fuzzy Logic\n",
        "- Kontrol suhu AC berdasarkan tingkat kenyamanan.\n",
        "- Sistem rekomendasi (misalnya: apakah film cocok untuk ditonton).\n",
        "- Pengambilan keputusan di lingkungan yang tidak pasti.\n",
        "- Kendali kendaraan otomatis (misalnya, kecepatan dan pengereman adaptif).\n",
        "\n",
        "## Konsep Utama dalam Fuzzy Logic\n",
        "1. **Fuzzy Sets** – Kategori dengan batas yang fleksibel (misalnya, suhu bisa \"dingin\", \"hangat\", atau \"panas\" dengan nilai keanggotaan).\n",
        "2. **Membership Function** – Fungsi yang menentukan derajat keanggotaan suatu nilai dalam fuzzy set.\n",
        "3. **Fuzzy Rules** – Aturan berbasis **IF-THEN** untuk pengambilan keputusan.\n",
        "4. **Defuzzification** – Konversi hasil fuzzy ke nilai yang dapat digunakan sistem.\n"
      ],
      "metadata": {
        "id": "PJrfvyAylZQA"
      }
    },
    {
      "cell_type": "markdown",
      "source": [
        "## Cara Kerja Fuzzy Logic\n",
        "1. **Fuzzification** – Mengubah input tegas menjadi derajat keanggotaan dalam fuzzy set.\n",
        "2. **Inference** – Memproses input berdasarkan aturan fuzzy IF-THEN.\n",
        "3. **Defuzzification** – Menghasilkan output dalam bentuk nilai tegas yang dapat digunakan."
      ],
      "metadata": {
        "id": "ngM0QQXElnDv"
      }
    },
    {
      "cell_type": "markdown",
      "source": [
        "## Implementasi Fuzzy Logic\n",
        "Berikut adalah contoh penerapan Fuzzy Logic untuk mengontrol kecepatan mobil berdasarkan jarak ke kendaraan di depan."
      ],
      "metadata": {
        "id": "oCk27U2QloQz"
      }
    },
    {
      "cell_type": "code",
      "source": [
        " pip install scikit-fuzzy"
      ],
      "metadata": {
        "colab": {
          "base_uri": "https://localhost:8080/"
        },
        "id": "1fSO5YoSl54F",
        "outputId": "c374a507-8e7e-4fec-bec5-f3154512ab11"
      },
      "execution_count": 2,
      "outputs": [
        {
          "output_type": "stream",
          "name": "stdout",
          "text": [
            "Collecting scikit-fuzzy\n",
            "  Downloading scikit_fuzzy-0.5.0-py2.py3-none-any.whl.metadata (2.6 kB)\n",
            "Downloading scikit_fuzzy-0.5.0-py2.py3-none-any.whl (920 kB)\n",
            "\u001b[?25l   \u001b[90m━━━━━━━━━━━━━━━━━━━━━━━━━━━━━━━━━━━━━━━━\u001b[0m \u001b[32m0.0/920.8 kB\u001b[0m \u001b[31m?\u001b[0m eta \u001b[36m-:--:--\u001b[0m\r\u001b[2K   \u001b[91m━━━━\u001b[0m\u001b[91m╸\u001b[0m\u001b[90m━━━━━━━━━━━━━━━━━━━━━━━━━━━━━━━━━━━\u001b[0m \u001b[32m112.6/920.8 kB\u001b[0m \u001b[31m3.2 MB/s\u001b[0m eta \u001b[36m0:00:01\u001b[0m\r\u001b[2K   \u001b[91m━━━━━━━━━━━━━━━━━━━━━━━━━━━\u001b[0m\u001b[91m╸\u001b[0m\u001b[90m━━━━━━━━━━━━\u001b[0m \u001b[32m634.9/920.8 kB\u001b[0m \u001b[31m9.4 MB/s\u001b[0m eta \u001b[36m0:00:01\u001b[0m\r\u001b[2K   \u001b[90m━━━━━━━━━━━━━━━━━━━━━━━━━━━━━━━━━━━━━━━━\u001b[0m \u001b[32m920.8/920.8 kB\u001b[0m \u001b[31m10.2 MB/s\u001b[0m eta \u001b[36m0:00:00\u001b[0m\n",
            "\u001b[?25hInstalling collected packages: scikit-fuzzy\n",
            "Successfully installed scikit-fuzzy-0.5.0\n"
          ]
        }
      ]
    },
    {
      "cell_type": "code",
      "source": [
        "import numpy as np\n",
        "import skfuzzy as fuzz\n",
        "import skfuzzy.control as ctrl\n",
        "\n",
        "# Variabel Fuzzy\n",
        "jarak = ctrl.Antecedent(np.arange(0, 101, 1), 'jarak')\n",
        "kecepatan = ctrl.Consequent(np.arange(0, 101, 1), 'kecepatan')\n",
        "\n",
        "# Membership Functions\n",
        "jarak['dekat'] = fuzz.trimf(jarak.universe, [0, 0, 50])\n",
        "jarak['sedang'] = fuzz.trimf(jarak.universe, [30, 50, 80])\n",
        "jarak['jauh'] = fuzz.trimf(jarak.universe, [50, 100, 100])\n",
        "\n",
        "kecepatan['lambat'] = fuzz.trimf(kecepatan.universe, [0, 0, 50])\n",
        "kecepatan['sedang'] = fuzz.trimf(kecepatan.universe, [30, 50, 80])\n",
        "kecepatan['cepat'] = fuzz.trimf(kecepatan.universe, [50, 100, 100])\n",
        "\n",
        "# Aturan Fuzzy (IF-THEN)\n",
        "rule1 = ctrl.Rule(jarak['dekat'], kecepatan['lambat'])\n",
        "rule2 = ctrl.Rule(jarak['sedang'], kecepatan['sedang'])\n",
        "rule3 = ctrl.Rule(jarak['jauh'], kecepatan['cepat'])\n",
        "\n",
        "# Sistem Kontrol Fuzzy\n",
        "kecepatan_ctrl = ctrl.ControlSystem([rule1, rule2, rule3])\n",
        "kecepatan_simulasi = ctrl.ControlSystemSimulation(kecepatan_ctrl)\n",
        "\n",
        "# Simulasi dengan input jarak 40\n",
        "kecepatan_simulasi.input['jarak'] = 40\n",
        "kecepatan_simulasi.compute()\n",
        "\n",
        "print(f\"Kecepatan yang disarankan: {kecepatan_simulasi.output['kecepatan']:.2f} km/jam\")"
      ],
      "metadata": {
        "colab": {
          "base_uri": "https://localhost:8080/"
        },
        "id": "J0Ed2ywOlpaS",
        "outputId": "972af985-9e30-45ec-a92f-4f37aa49c121"
      },
      "execution_count": 3,
      "outputs": [
        {
          "output_type": "stream",
          "name": "stdout",
          "text": [
            "Kecepatan yang disarankan: 44.25 km/jam\n"
          ]
        }
      ]
    },
    {
      "cell_type": "markdown",
      "source": [
        "## Kesimpulan\n",
        "Fuzzy Logic memungkinkan sistem untuk menangani ketidakpastian dengan memberikan nilai keanggotaan dalam rentang **0-1**, bukan hanya 0 atau 1.\n",
        "\n",
        "✅ **Kelebihan Fuzzy Logic**  \n",
        "- Dapat menangani ketidakpastian dalam data.  \n",
        "- Mudah diimplementasikan dan fleksibel.  \n",
        "- Lebih dekat dengan cara berpikir manusia.  \n",
        "\n",
        "❌ **Kekurangan Fuzzy Logic**  \n",
        "- Membutuhkan perancangan membership function yang baik.  \n",
        "- Tidak selalu optimal jika aturan tidak dirancang dengan benar.  \n",
        "- Tidak dapat belajar sendiri seperti Machine Learning.  \n",
        "\n",
        "### **Pengembangan Lebih Lanjut**\n",
        "- **Menggunakan Fuzzy Logic dalam kendali robotik.**  \n",
        "- **Menggabungkan dengan Neural Networks untuk adaptive control.**  \n",
        "- **Mengimplementasikan sistem fuzzy dalam IoT untuk smart home control.**  "
      ],
      "metadata": {
        "id": "p_5USkjblttf"
      }
    }
  ]
}